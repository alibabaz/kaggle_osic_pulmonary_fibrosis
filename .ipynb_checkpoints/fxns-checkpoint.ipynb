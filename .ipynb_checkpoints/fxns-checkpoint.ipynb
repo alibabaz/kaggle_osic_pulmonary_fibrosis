{
 "cells": [
  {
   "cell_type": "code",
   "execution_count": null,
   "metadata": {},
   "outputs": [],
   "source": []
  },
  {
   "cell_type": "code",
   "execution_count": null,
   "metadata": {},
   "outputs": [],
   "source": [
    "#returns a list with the dicoms in order\n",
    "def dcm_sort(patient_folder):\n",
    "    #list comprehension that runs through folder of dicoms\n",
    "    dcm_stacked = [dcmread(dcm) for dcm in patient_folder.ls()]\n",
    "    dcm_stacked.sort(key=lambda x: int(x.InstanceNumber), reverse=True)\n",
    "    #returning a python list of dicoms sorted\n",
    "    return dcm_stacked\n",
    "\n",
    "#transforms all slices in a scan in hounsfield units \n",
    "def ct_transformed(dcm_sorted, threshold=-1000, replace=-1000):\n",
    "    intercept = dcm_sorted[0].RescaleIntercept\n",
    "    slices_stacked = np.stack([dcm.pixel_array for dcm in dcm_sorted])\n",
    "    slices_stacked = slices_stacked.astype(np.int16)\n",
    "    \n",
    "    #converts the unknown values to desired replacement\n",
    "    slices_stacked[slices_stacked <= threshold] = replace\n",
    "    \n",
    "    #turn into hounsfield scale\n",
    "    slices_stacked += np.int16(intercept)\n",
    "    \n",
    "    return np.array(slices_stacked, dtype=np.int16)\n",
    "\n",
    "def resample(img, scan, new_spacing=[1,1,1]):\n",
    "    spacing = np.array([scan[0].SliceThickness] + list(scan[0].PixelSpacing),\n",
    "                      dtype=np.float32)\n",
    "    resize_factor = spacing / new_spacing\n",
    "    new_real_shape = img.shape * resize_factor\n",
    "    new_shape = np.round(new_real_shape)\n",
    "    real_resize_factor = new_shape / img.shape\n",
    "    new_spacing = spacing / real_resize_factor\n",
    "    \n",
    "    image = scipy.ndimage.interpolation.zoom(img, real_resize_factor,\n",
    "                                        mode='nearest')\n",
    "    return image, new_spacing"
   ]
  },
  {
   "cell_type": "code",
   "execution_count": null,
   "metadata": {},
   "outputs": [],
   "source": []
  },
  {
   "cell_type": "code",
   "execution_count": null,
   "metadata": {},
   "outputs": [],
   "source": []
  }
 ],
 "metadata": {
  "kernelspec": {
   "display_name": "Python 3",
   "language": "python",
   "name": "python3"
  },
  "language_info": {
   "codemirror_mode": {
    "name": "ipython",
    "version": 3
   },
   "file_extension": ".py",
   "mimetype": "text/x-python",
   "name": "python",
   "nbconvert_exporter": "python",
   "pygments_lexer": "ipython3",
   "version": "3.8.5"
  }
 },
 "nbformat": 4,
 "nbformat_minor": 4
}
