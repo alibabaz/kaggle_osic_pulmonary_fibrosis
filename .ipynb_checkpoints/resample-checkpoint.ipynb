{
 "cells": [
  {
   "cell_type": "code",
   "execution_count": 1,
   "metadata": {},
   "outputs": [],
   "source": [
    "from fastai.vision.all import *\n",
    "import matplotlib.pyplot as plt\n",
    "import seaborn as sns\n",
    "from pydicom import dcmread\n",
    "%matplotlib inline"
   ]
  },
  {
   "cell_type": "code",
   "execution_count": 2,
   "metadata": {},
   "outputs": [
    {
     "data": {
      "text/plain": [
       "(#6) [Path('test.csv'),Path('train'),Path('train.csv'),Path('test'),Path('osic-pulmonary-fibrosis-progression.zip'),Path('sample_submission.csv')]"
      ]
     },
     "execution_count": 2,
     "metadata": {},
     "output_type": "execute_result"
    }
   ],
   "source": [
    "path = Path('/home/azaidi/Desktop/fastai/nbs/kaggle/osic')\n",
    "Path.BASE_PATH = path\n",
    "path.ls()"
   ]
  },
  {
   "cell_type": "code",
   "execution_count": 3,
   "metadata": {},
   "outputs": [],
   "source": [
    "train_path = path/'train'\n",
    "test_path = path/'test'\n",
    "train_df = pd.read_csv(path/'train.csv')\n",
    "test_df = pd.read_csv(path/'test.csv')\n",
    "sample_sub = pd.read_csv(path/'sample_submission.csv')"
   ]
  },
  {
   "cell_type": "code",
   "execution_count": 4,
   "metadata": {},
   "outputs": [],
   "source": [
    "#returns a list with the dicoms in order\n",
    "def dcm_sort(patient_folder):\n",
    "    #list comprehension that runs through folder of dicoms\n",
    "    dcm_stacked = [dcmread(dcm) for dcm in patient_folder.ls()]\n",
    "    dcm_stacked.sort(key=lambda x: int(x.InstanceNumber), reverse=True)\n",
    "    #returning a python list of dicoms sorted\n",
    "    return dcm_stacked\n",
    "\n",
    "#transforms all slices in a scan in hounsfield units \n",
    "def ct_transformed(dcm_sorted, threshold=-1000, replace=-1000):\n",
    "    intercept = dcm_sorted[0].RescaleIntercept\n",
    "    slices_stacked = np.stack([dcm.pixel_array for dcm in dcm_sorted])\n",
    "    slices_stacked = slices_stacked.astype(np.int16)\n",
    "    \n",
    "    #converts the unknown values to desired replacement\n",
    "    slices_stacked[slices_stacked <= threshold] = replace\n",
    "    \n",
    "    #turn into hounsfield scale\n",
    "    slices_stacked += np.int16(intercept)\n",
    "    \n",
    "    return np.array(slices_stacked, dtype=np.int16)"
   ]
  },
  {
   "cell_type": "code",
   "execution_count": 5,
   "metadata": {},
   "outputs": [
    {
     "name": "stdout",
     "output_type": "stream",
     "text": [
      "CPU times: user 19 s, sys: 11.5 s, total: 30.6 s\n",
      "Wall time: 43 s\n"
     ]
    }
   ],
   "source": [
    "%%time\n",
    "dcms = [dcm_sort(folder) for folder in train_path.ls()]"
   ]
  },
  {
   "cell_type": "code",
   "execution_count": 18,
   "metadata": {},
   "outputs": [
    {
     "data": {
      "text/plain": [
       "176"
      ]
     },
     "execution_count": 18,
     "metadata": {},
     "output_type": "execute_result"
    }
   ],
   "source": [
    "slice_count = [len(scan) for scan in dcms]\n",
    "len(slice_count)"
   ]
  },
  {
   "cell_type": "code",
   "execution_count": 21,
   "metadata": {},
   "outputs": [
    {
     "data": {
      "text/plain": [
       "(67, 451, 233)"
      ]
     },
     "execution_count": 21,
     "metadata": {},
     "output_type": "execute_result"
    }
   ],
   "source": [
    "scan1, scan2, scan3 = dcms[0], dcms[1], dcms[12]\n",
    "len(scan1), len(scan2), len(scan3)"
   ]
  },
  {
   "cell_type": "code",
   "execution_count": 63,
   "metadata": {},
   "outputs": [
    {
     "data": {
      "text/plain": [
       "((67, 512, 512), (451, 512, 512), (233, 512, 512))"
      ]
     },
     "execution_count": 63,
     "metadata": {},
     "output_type": "execute_result"
    }
   ],
   "source": [
    "img1, img2, img3 = ct_transformed(scan1), ct_transformed(scan2), ct_transformed(scan3)\n",
    "img1.shape, img2.shape, img3.shape"
   ]
  },
  {
   "cell_type": "markdown",
   "metadata": {},
   "source": [
    "Ok we have scans three scans with wildly different numbers of slices"
   ]
  },
  {
   "cell_type": "code",
   "execution_count": 27,
   "metadata": {},
   "outputs": [
    {
     "data": {
      "text/plain": [
       "(\"5.0\", \"1.0\", \"1.25\")"
      ]
     },
     "execution_count": 27,
     "metadata": {},
     "output_type": "execute_result"
    }
   ],
   "source": [
    "scan1[0].SliceThickness, scan2[0].SliceThickness, scan2[0].Slicehickness"
   ]
  },
  {
   "cell_type": "code",
   "execution_count": 51,
   "metadata": {},
   "outputs": [
    {
     "data": {
      "text/plain": [
       "([0.683, 0.683], [0.740234375, 0.740234375], [0.740234375, 0.740234375])"
      ]
     },
     "execution_count": 51,
     "metadata": {},
     "output_type": "execute_result"
    }
   ],
   "source": [
    "scan1[0].PixelSpacing, scan2[0].PixelSpacing, scan2[0].PixelSpacing"
   ]
  },
  {
   "cell_type": "code",
   "execution_count": 53,
   "metadata": {},
   "outputs": [
    {
     "data": {
      "text/plain": [
       "pydicom.multival.MultiValue"
      ]
     },
     "execution_count": 53,
     "metadata": {},
     "output_type": "execute_result"
    }
   ],
   "source": [
    "#We'll have to cast this to a list even though it looks like list above\n",
    "type(scan1[0].PixelSpacing)"
   ]
  },
  {
   "cell_type": "code",
   "execution_count": 54,
   "metadata": {},
   "outputs": [
    {
     "data": {
      "text/plain": [
       "[\"5.0\", \"0.683\", \"0.683\"]"
      ]
     },
     "execution_count": 54,
     "metadata": {},
     "output_type": "execute_result"
    }
   ],
   "source": [
    "[scan1[0].SliceThickness] + list(scan1[0].PixelSpacing)"
   ]
  },
  {
   "cell_type": "code",
   "execution_count": 57,
   "metadata": {},
   "outputs": [],
   "source": [
    "spacing = np.array([scan1[0].SliceThickness] + list(scan1[0].PixelSpacing),\n",
    "                  dtype=np.float32)"
   ]
  },
  {
   "cell_type": "code",
   "execution_count": 65,
   "metadata": {},
   "outputs": [
    {
     "data": {
      "text/plain": [
       "(array([5.   , 0.683, 0.683], dtype=float32),\n",
       " array([5.        , 0.68300003, 0.68300003]))"
      ]
     },
     "execution_count": 65,
     "metadata": {},
     "output_type": "execute_result"
    }
   ],
   "source": [
    "resize_factor = spacing / [1,1,1]\n",
    "spacing , resize_factor"
   ]
  },
  {
   "cell_type": "code",
   "execution_count": 71,
   "metadata": {},
   "outputs": [
    {
     "data": {
      "text/plain": [
       "((67, 512, 512), array([335.       , 349.6960144, 349.6960144]))"
      ]
     },
     "execution_count": 71,
     "metadata": {},
     "output_type": "execute_result"
    }
   ],
   "source": [
    "new_real_shape = img1.shape * resize_factor\n",
    "img1.shape, new_real_shape"
   ]
  },
  {
   "cell_type": "code",
   "execution_count": 74,
   "metadata": {},
   "outputs": [],
   "source": [
    "new_shape = np.round(new_real_shape)\n",
    "real_resize_factor = new_shape / img1.shape"
   ]
  },
  {
   "cell_type": "code",
   "execution_count": 75,
   "metadata": {},
   "outputs": [
    {
     "data": {
      "text/plain": [
       "array([5.        , 0.68359375, 0.68359375])"
      ]
     },
     "execution_count": 75,
     "metadata": {},
     "output_type": "execute_result"
    }
   ],
   "source": [
    "#real_resize_factor\n",
    "np.round(new_real_shape) / img1.shape"
   ]
  },
  {
   "cell_type": "code",
   "execution_count": 77,
   "metadata": {},
   "outputs": [
    {
     "data": {
      "text/plain": [
       "(array([0.        , 0.00059372, 0.00059372]),\n",
       " array([0.        , 0.00059372, 0.00059372]))"
      ]
     },
     "execution_count": 77,
     "metadata": {},
     "output_type": "execute_result"
    }
   ],
   "source": [
    "real_resize_factor - spacing, real_resize_factor - resize_factor"
   ]
  },
  {
   "cell_type": "code",
   "execution_count": 78,
   "metadata": {},
   "outputs": [
    {
     "data": {
      "text/plain": [
       "array([1.        , 0.99913147, 0.99913147])"
      ]
     },
     "execution_count": 78,
     "metadata": {},
     "output_type": "execute_result"
    }
   ],
   "source": [
    "spacing / real_resize_factor"
   ]
  },
  {
   "cell_type": "code",
   "execution_count": 80,
   "metadata": {},
   "outputs": [],
   "source": [
    "res_img1 = scipy.ndimage.interpolation.zoom(img1, real_resize_factor,\n",
    "                                 mode='nearest')"
   ]
  },
  {
   "cell_type": "code",
   "execution_count": 81,
   "metadata": {},
   "outputs": [
    {
     "data": {
      "text/plain": [
       "(335, 350, 350)"
      ]
     },
     "execution_count": 81,
     "metadata": {},
     "output_type": "execute_result"
    }
   ],
   "source": [
    "res_img1.shape"
   ]
  },
  {
   "cell_type": "code",
   "execution_count": 83,
   "metadata": {},
   "outputs": [],
   "source": [
    "def resample(img, scan, new_spacing=[1,1,1]):\n",
    "    spacing = np.array([scan[0].SliceThickness] + list(scan[0].PixelSpacing),\n",
    "                      dtype=np.float32)\n",
    "    resize_factor = spacing / new_spacing\n",
    "    new_real_shape = img.shape * resize_factor\n",
    "    new_shape = np.round(new_real_shape)\n",
    "    real_resize_factor = new_shape / img.shape\n",
    "    new_spacing = spacing / real_resize_factor\n",
    "    \n",
    "    image = scipy.ndimage.interpolation.zoom(img, real_resize_factor,\n",
    "                                        mode='nearest')\n",
    "    return image, new_spacing"
   ]
  },
  {
   "cell_type": "code",
   "execution_count": 85,
   "metadata": {},
   "outputs": [
    {
     "name": "stdout",
     "output_type": "stream",
     "text": [
      "CPU times: user 55.8 s, sys: 272 ms, total: 56.1 s\n",
      "Wall time: 56.1 s\n"
     ]
    }
   ],
   "source": [
    "%%time\n",
    "res_img1, res_1_spacing = resample(img1, scan1)\n",
    "res_img2, res_2_spacing = resample(img2, scan2)\n",
    "res_img3, res_3_spacing = resample(img3, scan3)"
   ]
  },
  {
   "cell_type": "code",
   "execution_count": 86,
   "metadata": {},
   "outputs": [
    {
     "data": {
      "text/plain": [
       "((335, 350, 350), (451, 379, 379), (291, 360, 360))"
      ]
     },
     "execution_count": 86,
     "metadata": {},
     "output_type": "execute_result"
    }
   ],
   "source": [
    "res_img1.shape, res_img2.shape, res_img3.shape"
   ]
  },
  {
   "cell_type": "code",
   "execution_count": 90,
   "metadata": {},
   "outputs": [
    {
     "data": {
      "text/plain": [
       "<matplotlib.image.AxesImage at 0x7fc0100d66a0>"
      ]
     },
     "execution_count": 90,
     "metadata": {},
     "output_type": "execute_result"
    },
    {
     "data": {
      "image/png": "[encoded data removed]",
      "text/plain": [
       "<Figure size 432x288 with 1 Axes>"
      ]
     },
     "metadata": {
      "needs_background": "light"
     },
     "output_type": "display_data"
    }
   ],
   "source": [
    "plt.imshow(res_img1[200], cmap='Blues_r')"
   ]
  },
  {
   "cell_type": "code",
   "execution_count": 92,
   "metadata": {},
   "outputs": [
    {
     "data": {
      "text/plain": [
       "array([0.19104478, 0.18285714, 0.18285714])"
      ]
     },
     "execution_count": 92,
     "metadata": {},
     "output_type": "execute_result"
    }
   ],
   "source": [
    "np.divide(64, res_img1.shape)"
   ]
  },
  {
   "cell_type": "code",
   "execution_count": 97,
   "metadata": {},
   "outputs": [
    {
     "data": {
      "text/plain": [
       "(41037500, 64782091, 37713600)"
      ]
     },
     "execution_count": 97,
     "metadata": {},
     "output_type": "execute_result"
    }
   ],
   "source": [
    "335*350*350, 451*379*379, 291*360*360"
   ]
  },
  {
   "cell_type": "markdown",
   "metadata": {},
   "source": [
    "41 Million, 64 Million and 37 million.... That's way too many pixels still"
   ]
  },
  {
   "cell_type": "code",
   "execution_count": 101,
   "metadata": {},
   "outputs": [
    {
     "data": {
      "text/plain": [
       "array([0.47761194, 0.5       , 0.5       ])"
      ]
     },
     "execution_count": 101,
     "metadata": {},
     "output_type": "execute_result"
    }
   ],
   "source": [
    "np.array([32,256,256]) / np.array(img1.shape)"
   ]
  },
  {
   "cell_type": "code",
   "execution_count": 102,
   "metadata": {},
   "outputs": [
    {
     "data": {
      "text/plain": [
       "(67, 512, 512)"
      ]
     },
     "execution_count": 102,
     "metadata": {},
     "output_type": "execute_result"
    }
   ],
   "source": [
    "img1.shape"
   ]
  },
  {
   "cell_type": "code",
   "execution_count": null,
   "metadata": {},
   "outputs": [],
   "source": []
  }
 ],
 "metadata": {
  "kernelspec": {
   "display_name": "Python 3",
   "language": "python",
   "name": "python3"
  },
  "language_info": {
   "codemirror_mode": {
    "name": "ipython",
    "version": 3
   },
   "file_extension": ".py",
   "mimetype": "text/x-python",
   "name": "python",
   "nbconvert_exporter": "python",
   "pygments_lexer": "ipython3",
   "version": "3.8.5"
  }
 },
 "nbformat": 4,
 "nbformat_minor": 4
}
