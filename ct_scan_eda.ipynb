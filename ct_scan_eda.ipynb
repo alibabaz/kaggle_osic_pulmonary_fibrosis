{
 "cells": [
  {
   "cell_type": "markdown",
   "metadata": {},
   "source": [
    "Let's actually take a look at our dicoms and see what we can glean from the distribution of information across scans.\n",
    "\n",
    "First we'll need to actually extract the information we want into a dataframe"
   ]
  },
  {
   "cell_type": "code",
   "execution_count": 1,
   "metadata": {},
   "outputs": [],
   "source": [
    "from fastai2.vision.all import *\n",
    "import matplotlib.pyplot as plt\n",
    "from pydicom import dcmread"
   ]
  },
  {
   "cell_type": "code",
   "execution_count": 2,
   "metadata": {},
   "outputs": [
    {
     "data": {
      "text/plain": [
       "(#6) [Path('test.csv'),Path('train'),Path('train.csv'),Path('test'),Path('osic-pulmonary-fibrosis-progression.zip'),Path('sample_submission.csv')]"
      ]
     },
     "execution_count": 2,
     "metadata": {},
     "output_type": "execute_result"
    }
   ],
   "source": [
    "path = Path('/home/azaidi/Desktop/fastai/nbs/kaggle/osic')\n",
    "Path.BASE_PATH = path\n",
    "path.ls()"
   ]
  },
  {
   "cell_type": "code",
   "execution_count": 3,
   "metadata": {},
   "outputs": [],
   "source": [
    "train_path = path/'train'\n",
    "test_path = path/'test'\n",
    "train_df = pd.read_csv(path/'train.csv')\n",
    "test_df = pd.read_csv(path/'test.csv')\n",
    "sample_sub = pd.read_csv(path/'sample_submission.csv')"
   ]
  },
  {
   "cell_type": "code",
   "execution_count": 4,
   "metadata": {},
   "outputs": [],
   "source": [
    "#returns a list with the dicoms in order\n",
    "def dcm_sort(patient_folder):\n",
    "    #list comprehension that runs through folder of dicoms\n",
    "    dcm_stacked = [dcmread(dcm) for dcm in patient_folder.ls()]\n",
    "    dcm_stacked.sort(key=lambda x: int(x.InstanceNumber), reverse=True)\n",
    "    #returning a python list of dicoms sorted\n",
    "    return dcm_stacked\n",
    "\n",
    "#transforms all slices in a scan in hounsfield units \n",
    "def ct_transformed_hu(dcm_sorted, threshold=-1000, replace=-1000):\n",
    "    intercept = dcm_sorted[0].RescaleIntercept\n",
    "    slices_stacked = np.stack([dcm.pixel_array for dcm in dcm_sorted])\n",
    "    slices_stacked = slices_stacked.astype(np.int16)\n",
    "    \n",
    "    #converts the unknown values to desired replacement\n",
    "    slices_stacked[slices_stacked <= threshold] = replace\n",
    "    \n",
    "    #turn into hounsfield scale\n",
    "    slices_stacked += np.int16(intercept)\n",
    "    \n",
    "    return np.array(slices_stacked, dtype=np.int16)"
   ]
  },
  {
   "cell_type": "code",
   "execution_count": 5,
   "metadata": {},
   "outputs": [],
   "source": [
    "#transforms all slices in a scan in hounsfield units \n",
    "def ct_transformed(dcm_sorted, threshold=-1000, replace=-1000):\n",
    "    intercept = dcm_sorted[0].RescaleIntercept\n",
    "    slices_stacked = np.stack([dcm.pixel_array for dcm in dcm_sorted])\n",
    "    slices_stacked = slices_stacked.astype(np.int16)\n",
    "    \n",
    "    #converts the unknown values to desired replacement\n",
    "    slices_stacked[slices_stacked <= threshold] = replace\n",
    "    \n",
    "    #turn into hounsfield scale\n",
    "    slices_stacked += np.int16(intercept)\n",
    "    \n",
    "    return np.array(slices_stacked, dtype=np.int16)"
   ]
  },
  {
   "cell_type": "code",
   "execution_count": 6,
   "metadata": {},
   "outputs": [
    {
     "data": {
      "text/plain": [
       "(64, (10, 512, 512))"
      ]
     },
     "execution_count": 6,
     "metadata": {},
     "output_type": "execute_result"
    }
   ],
   "source": [
    "one_scan = ct_transformed(dcm_sort(train_path.ls()[19]), 0)\n",
    "len(one_scan), one_scan[20:30].shape"
   ]
  },
  {
   "cell_type": "code",
   "execution_count": 7,
   "metadata": {},
   "outputs": [],
   "source": [
    "ten_slices = one_scan[20:30]"
   ]
  },
  {
   "cell_type": "code",
   "execution_count": 8,
   "metadata": {},
   "outputs": [],
   "source": [
    "def plot_slices(slices, rows, columns, figsize=(20,10)):\n",
    "    fig, ax = plt.subplots(rows, columns, figsize=figsize)\n",
    "    for n in range(rows):\n",
    "        for m in range(columns):\n",
    "            ax[n, m].imshow(ten_slices[n*5 + m])"
   ]
  },
  {
   "cell_type": "code",
   "execution_count": 9,
   "metadata": {},
   "outputs": [
    {
     "data": {
      "text/plain": [
       "(#176) [Path('train/ID00232637202260377586117'),Path('train/ID00134637202223873059688'),Path('train/ID00093637202205278167493'),Path('train/ID00307637202282126172865'),Path('train/ID00364637202296074419422'),Path('train/ID00172637202238316925179'),Path('train/ID00335637202286784464927'),Path('train/ID00213637202257692916109'),Path('train/ID00392637202302319160044'),Path('train/ID00030637202181211009029')...]"
      ]
     },
     "execution_count": 9,
     "metadata": {},
     "output_type": "execute_result"
    }
   ],
   "source": [
    "train_path.ls()"
   ]
  },
  {
   "cell_type": "markdown",
   "metadata": {},
   "source": [
    "Having to query into the dicom each time we want to extract out information is cumbersome -- let's just pull all the data from the dicoms we're interested in considering into a dataframe"
   ]
  },
  {
   "cell_type": "code",
   "execution_count": 10,
   "metadata": {},
   "outputs": [
    {
     "name": "stdout",
     "output_type": "stream",
     "text": [
      "CPU times: user 20.8 s, sys: 11 s, total: 31.9 s\n",
      "Wall time: 44.5 s\n"
     ]
    }
   ],
   "source": [
    "%%time\n",
    "scans = [dcm_sort(folder) for folder in train_path.ls()]"
   ]
  },
  {
   "cell_type": "code",
   "execution_count": 11,
   "metadata": {},
   "outputs": [
    {
     "data": {
      "text/plain": [
       "176"
      ]
     },
     "execution_count": 11,
     "metadata": {},
     "output_type": "execute_result"
    }
   ],
   "source": [
    "#ok now we have 176 lists of dicoms inside of a list\n",
    "len(scans)"
   ]
  },
  {
   "cell_type": "markdown",
   "metadata": {},
   "source": [
    "Let's initialize a dataframe of the right size -- 176 rows by X number of columns -- let's remind ourselves what's in a dicom first"
   ]
  },
  {
   "cell_type": "code",
   "execution_count": 12,
   "metadata": {},
   "outputs": [
    {
     "data": {
      "text/plain": [
       "Dataset.file_meta -------------------------------\n",
       "(0002, 0000) File Meta Information Group Length  UL: 200\n",
       "(0002, 0001) File Meta Information Version       OB: b'\\x00\\x01'\n",
       "(0002, 0002) Media Storage SOP Class UID         UI: CT Image Storage\n",
       "(0002, 0003) Media Storage SOP Instance UID      UI: 2.25.121598162386088989868087504905267208491\n",
       "(0002, 0010) Transfer Syntax UID                 UI: Explicit VR Little Endian\n",
       "(0002, 0012) Implementation Class UID            UI: 1.2.276.0.7230010.3.0.3.6.1\n",
       "(0002, 0013) Implementation Version Name         SH: 'OSIRIX_361'\n",
       "(0002, 0016) Source Application Entity Title     AE: 'ANONYMOUS'\n",
       "-------------------------------------------------\n",
       "(0008, 0008) Image Type                          CS: ['ORIGINAL', 'PRIMARY', 'AXIAL']\n",
       "(0008, 0018) SOP Instance UID                    UI: 2.25.121598162386088989868087504905267208491\n",
       "(0008, 0060) Modality                            CS: 'CT'\n",
       "(0008, 0070) Manufacturer                        LO: 'TOSHIBA'\n",
       "(0008, 1090) Manufacturer's Model Name           LO: 'Aquilion'\n",
       "(0010, 0010) Patient's Name                      PN: 'ID00232637202260377586117'\n",
       "(0010, 0020) Patient ID                          LO: 'ID00232637202260377586117'\n",
       "(0010, 0040) Patient's Sex                       CS: ''\n",
       "(0012, 0063) De-identification Method            LO: 'Table;'\n",
       "(0018, 0015) Body Part Examined                  CS: 'Chest'\n",
       "(0018, 0050) Slice Thickness                     DS: \"5.0\"\n",
       "(0018, 0060) KVP                                 DS: \"120.0\"\n",
       "(0018, 1120) Gantry/Detector Tilt                DS: \"0.0\"\n",
       "(0018, 1130) Table Height                        DS: \"100.0\"\n",
       "(0018, 1140) Rotation Direction                  CS: 'CW'\n",
       "(0018, 1151) X-Ray Tube Current                  IS: \"300\"\n",
       "(0018, 1170) Generator Power                     IS: \"36\"\n",
       "(0018, 1190) Focal Spot(s)                       DS: [0.9, 0.8]\n",
       "(0018, 1210) Convolution Kernel                  SH: 'FC52'\n",
       "(0018, 5100) Patient Position                    CS: 'FFS'\n",
       "(0020, 000d) Study Instance UID                  UI: 2.25.92075766160675150159827687839420361774\n",
       "(0020, 000e) Series Instance UID                 UI: 2.25.79864260009461911198452701005063817636\n",
       "(0020, 0010) Study ID                            SH: ''\n",
       "(0020, 0013) Instance Number                     IS: \"67\"\n",
       "(0020, 0020) Patient Orientation                 CS: ['L', 'P']\n",
       "(0020, 0032) Image Position (Patient)            DS: [-174.2187, -175.0000, 1528.500]\n",
       "(0020, 0037) Image Orientation (Patient)         DS: [1.00000, 0.00000, 0.00000, 0.00000, 1.00000, 0.00000]\n",
       "(0020, 0052) Frame of Reference UID              UI: 2.25.115371858708354401591612712126491939605\n",
       "(0020, 1040) Position Reference Indicator        LO: 'SN'\n",
       "(0020, 1041) Slice Location                      DS: \"327.0\"\n",
       "(0028, 0002) Samples per Pixel                   US: 1\n",
       "(0028, 0004) Photometric Interpretation          CS: 'MONOCHROME2'\n",
       "(0028, 0010) Rows                                US: 512\n",
       "(0028, 0011) Columns                             US: 512\n",
       "(0028, 0030) Pixel Spacing                       DS: [0.683, 0.683]\n",
       "(0028, 0100) Bits Allocated                      US: 16\n",
       "(0028, 0101) Bits Stored                         US: 16\n",
       "(0028, 0102) High Bit                            US: 15\n",
       "(0028, 0103) Pixel Representation                US: 1\n",
       "(0028, 1050) Window Center                       DS: \"-500.0\"\n",
       "(0028, 1051) Window Width                        DS: \"-1500.0\"\n",
       "(0028, 1052) Rescale Intercept                   DS: \"0.0\"\n",
       "(0028, 1053) Rescale Slope                       DS: \"1.0\"\n",
       "(7fe0, 0010) Pixel Data                          OW: Array of 524288 elements"
      ]
     },
     "execution_count": 12,
     "metadata": {},
     "output_type": "execute_result"
    }
   ],
   "source": [
    "dcm = scans[0][0]\n",
    "dcm"
   ]
  },
  {
   "cell_type": "markdown",
   "metadata": {},
   "source": [
    "Just showing how we'll create lists of values we're interested in - a list of lists -- which we can simply cast into a pandas dataframe when we're done"
   ]
  },
  {
   "cell_type": "code",
   "execution_count": 13,
   "metadata": {},
   "outputs": [
    {
     "data": {
      "text/plain": [
       "67"
      ]
     },
     "execution_count": 13,
     "metadata": {},
     "output_type": "execute_result"
    }
   ],
   "source": [
    "meow = len(scans[0])\n",
    "meow"
   ]
  },
  {
   "cell_type": "code",
   "execution_count": 14,
   "metadata": {},
   "outputs": [],
   "source": [
    "scan_info = [meow, dcm.Rows, dcm.Columns, dcm.SliceThickness,\n",
    "             dcm.PixelSpacing[0], dcm.PixelSpacing[1],\n",
    "             dcm.Manufacturer]"
   ]
  },
  {
   "cell_type": "code",
   "execution_count": 15,
   "metadata": {},
   "outputs": [
    {
     "data": {
      "text/plain": [
       "[67, 512, 512, \"5.0\", \"0.683\", \"0.683\", 'TOSHIBA']"
      ]
     },
     "execution_count": 15,
     "metadata": {},
     "output_type": "execute_result"
    }
   ],
   "source": [
    "scan_info"
   ]
  },
  {
   "cell_type": "code",
   "execution_count": 16,
   "metadata": {},
   "outputs": [
    {
     "data": {
      "text/plain": [
       "Patient          ID00232637202260377586117\n",
       "Weeks                                    9\n",
       "FVC                                   1909\n",
       "Percent                            115.431\n",
       "Age                                     74\n",
       "Sex                                 Female\n",
       "SmokingStatus                 Never smoked\n",
       "Name: 885, dtype: object"
      ]
     },
     "execution_count": 16,
     "metadata": {},
     "output_type": "execute_result"
    }
   ],
   "source": [
    "train_df[train_df['Patient'] == dcm.PatientID].iloc[0]"
   ]
  },
  {
   "cell_type": "code",
   "execution_count": 17,
   "metadata": {},
   "outputs": [
    {
     "name": "stdout",
     "output_type": "stream",
     "text": [
      "CPU times: user 108 ms, sys: 208 µs, total: 109 ms\n",
      "Wall time: 115 ms\n"
     ]
    }
   ],
   "source": [
    "%%time\n",
    "holder = []\n",
    "for dcms in scans:\n",
    "    slice_count = len(dcms)\n",
    "    dcm = dcms[0]\n",
    "    pat = train_df[train_df['Patient'] == dcm.PatientID].iloc[0]\n",
    "    holder.append([pat['Patient'], pat['Age'], pat['Sex'],\n",
    "                   pat['SmokingStatus'], slice_count, dcm.Rows,\n",
    "                   dcm.Columns, dcm.SliceThickness, \n",
    "                   dcm.PixelSpacing[0], dcm.PixelSpacing[1], \n",
    "                   dcm.Manufacturer])"
   ]
  },
  {
   "cell_type": "code",
   "execution_count": 18,
   "metadata": {},
   "outputs": [
    {
     "data": {
      "text/plain": [
       "(176,\n",
       " ['ID00232637202260377586117',\n",
       "  74,\n",
       "  'Female',\n",
       "  'Never smoked',\n",
       "  67,\n",
       "  512,\n",
       "  512,\n",
       "  \"5.0\",\n",
       "  \"0.683\",\n",
       "  \"0.683\",\n",
       "  'TOSHIBA'])"
      ]
     },
     "execution_count": 18,
     "metadata": {},
     "output_type": "execute_result"
    }
   ],
   "source": [
    "len(holder), holder[0]"
   ]
  },
  {
   "cell_type": "code",
   "execution_count": 19,
   "metadata": {},
   "outputs": [],
   "source": [
    "metadata = pd.DataFrame(holder, columns=['patient', 'age', 'sex',\n",
    "                                         'smoking_status',\n",
    "                            'num_slices', 'rows', 'columns', \n",
    "                              'slice_thickness', 'spacing_x', \n",
    "                              'spacing_y', 'manufacturer'])"
   ]
  },
  {
   "cell_type": "code",
   "execution_count": 20,
   "metadata": {},
   "outputs": [
    {
     "data": {
      "text/plain": [
       "(numpy.float64, str)"
      ]
     },
     "execution_count": 20,
     "metadata": {},
     "output_type": "execute_result"
    }
   ],
   "source": [
    "type(metadata['spacing_y'][0]), type(metadata['manufacturer'][0])"
   ]
  },
  {
   "cell_type": "code",
   "execution_count": 21,
   "metadata": {},
   "outputs": [
    {
     "data": {
      "text/html": [
       "<div>\n",
       "<style scoped>\n",
       "    .dataframe tbody tr th:only-of-type {\n",
       "        vertical-align: middle;\n",
       "    }\n",
       "\n",
       "    .dataframe tbody tr th {\n",
       "        vertical-align: top;\n",
       "    }\n",
       "\n",
       "    .dataframe thead th {\n",
       "        text-align: right;\n",
       "    }\n",
       "</style>\n",
       "<table border=\"1\" class=\"dataframe\">\n",
       "  <thead>\n",
       "    <tr style=\"text-align: right;\">\n",
       "      <th></th>\n",
       "      <th>patient</th>\n",
       "      <th>age</th>\n",
       "      <th>sex</th>\n",
       "      <th>smoking_status</th>\n",
       "      <th>num_slices</th>\n",
       "      <th>rows</th>\n",
       "      <th>columns</th>\n",
       "      <th>slice_thickness</th>\n",
       "      <th>spacing_x</th>\n",
       "      <th>spacing_y</th>\n",
       "      <th>manufacturer</th>\n",
       "    </tr>\n",
       "  </thead>\n",
       "  <tbody>\n",
       "    <tr>\n",
       "      <th>0</th>\n",
       "      <td>ID00232637202260377586117</td>\n",
       "      <td>74</td>\n",
       "      <td>Female</td>\n",
       "      <td>Never smoked</td>\n",
       "      <td>67</td>\n",
       "      <td>512</td>\n",
       "      <td>512</td>\n",
       "      <td>5.0</td>\n",
       "      <td>0.683000</td>\n",
       "      <td>0.683000</td>\n",
       "      <td>TOSHIBA</td>\n",
       "    </tr>\n",
       "    <tr>\n",
       "      <th>1</th>\n",
       "      <td>ID00134637202223873059688</td>\n",
       "      <td>67</td>\n",
       "      <td>Male</td>\n",
       "      <td>Ex-smoker</td>\n",
       "      <td>451</td>\n",
       "      <td>512</td>\n",
       "      <td>512</td>\n",
       "      <td>1.0</td>\n",
       "      <td>0.740234</td>\n",
       "      <td>0.740234</td>\n",
       "      <td>Philips</td>\n",
       "    </tr>\n",
       "    <tr>\n",
       "      <th>2</th>\n",
       "      <td>ID00093637202205278167493</td>\n",
       "      <td>69</td>\n",
       "      <td>Male</td>\n",
       "      <td>Ex-smoker</td>\n",
       "      <td>37</td>\n",
       "      <td>512</td>\n",
       "      <td>512</td>\n",
       "      <td>1.0</td>\n",
       "      <td>0.880859</td>\n",
       "      <td>0.880859</td>\n",
       "      <td>SIEMENS</td>\n",
       "    </tr>\n",
       "    <tr>\n",
       "      <th>3</th>\n",
       "      <td>ID00307637202282126172865</td>\n",
       "      <td>65</td>\n",
       "      <td>Male</td>\n",
       "      <td>Never smoked</td>\n",
       "      <td>29</td>\n",
       "      <td>512</td>\n",
       "      <td>512</td>\n",
       "      <td>1.0</td>\n",
       "      <td>0.707031</td>\n",
       "      <td>0.707031</td>\n",
       "      <td>SIEMENS</td>\n",
       "    </tr>\n",
       "    <tr>\n",
       "      <th>4</th>\n",
       "      <td>ID00364637202296074419422</td>\n",
       "      <td>64</td>\n",
       "      <td>Male</td>\n",
       "      <td>Ex-smoker</td>\n",
       "      <td>33</td>\n",
       "      <td>512</td>\n",
       "      <td>512</td>\n",
       "      <td>1.0</td>\n",
       "      <td>0.712891</td>\n",
       "      <td>0.712891</td>\n",
       "      <td>SIEMENS</td>\n",
       "    </tr>\n",
       "  </tbody>\n",
       "</table>\n",
       "</div>"
      ],
      "text/plain": [
       "                     patient  age     sex smoking_status  num_slices  rows  \\\n",
       "0  ID00232637202260377586117   74  Female   Never smoked          67   512   \n",
       "1  ID00134637202223873059688   67    Male      Ex-smoker         451   512   \n",
       "2  ID00093637202205278167493   69    Male      Ex-smoker          37   512   \n",
       "3  ID00307637202282126172865   65    Male   Never smoked          29   512   \n",
       "4  ID00364637202296074419422   64    Male      Ex-smoker          33   512   \n",
       "\n",
       "   columns  slice_thickness  spacing_x  spacing_y manufacturer  \n",
       "0      512              5.0   0.683000   0.683000      TOSHIBA  \n",
       "1      512              1.0   0.740234   0.740234      Philips  \n",
       "2      512              1.0   0.880859   0.880859      SIEMENS  \n",
       "3      512              1.0   0.707031   0.707031      SIEMENS  \n",
       "4      512              1.0   0.712891   0.712891      SIEMENS  "
      ]
     },
     "execution_count": 21,
     "metadata": {},
     "output_type": "execute_result"
    }
   ],
   "source": [
    "metadata.head()"
   ]
  },
  {
   "cell_type": "markdown",
   "metadata": {},
   "source": [
    "Pandas did the work for us to cast things that look like numerical values as such! :)\n",
    "\n",
    "We could of course create a function of the above and choose what values to pass, or set some defaults but allow for it to add additional values if desired -- it would also send it into the dataframe and return that"
   ]
  },
  {
   "cell_type": "code",
   "execution_count": 22,
   "metadata": {},
   "outputs": [
    {
     "data": {
      "image/png": "[encoded data removed]",
      "text/plain": [
       "<Figure size 432x288 with 1 Axes>"
      ]
     },
     "metadata": {
      "needs_background": "light"
     },
     "output_type": "display_data"
    }
   ],
   "source": [
    "plt.scatter(metadata.age, metadata.num_slices)\n",
    "plt.ylabel('# of Slices')\n",
    "plt.xlabel('Age');"
   ]
  },
  {
   "cell_type": "code",
   "execution_count": 23,
   "metadata": {},
   "outputs": [
    {
     "data": {
      "image/png": "[encoded data removed]",
      "text/plain": [
       "<Figure size 432x288 with 1 Axes>"
      ]
     },
     "metadata": {
      "needs_background": "light"
     },
     "output_type": "display_data"
    }
   ],
   "source": [
    "plt.scatter(metadata.manufacturer, metadata.age)\n",
    "plt.xticks(rotation=90)\n",
    "plt.ylabel('Age');"
   ]
  },
  {
   "cell_type": "code",
   "execution_count": 24,
   "metadata": {},
   "outputs": [
    {
     "data": {
      "image/png": "[encoded data removed]",
      "text/plain": [
       "<Figure size 432x288 with 1 Axes>"
      ]
     },
     "metadata": {
      "needs_background": "light"
     },
     "output_type": "display_data"
    }
   ],
   "source": [
    "plt.hist(metadata['rows'], bins=20);"
   ]
  },
  {
   "cell_type": "code",
   "execution_count": 25,
   "metadata": {},
   "outputs": [
    {
     "data": {
      "text/plain": [
       "512     132\n",
       "768      34\n",
       "752       2\n",
       "632       2\n",
       "734       1\n",
       "733       1\n",
       "1100      1\n",
       "843       1\n",
       "1302      1\n",
       "788       1\n",
       "Name: rows, dtype: int64"
      ]
     },
     "execution_count": 25,
     "metadata": {},
     "output_type": "execute_result"
    }
   ],
   "source": [
    "metadata['rows'].value_counts()"
   ]
  },
  {
   "cell_type": "code",
   "execution_count": 26,
   "metadata": {},
   "outputs": [
    {
     "data": {
      "text/plain": [
       "512     132\n",
       "768      34\n",
       "888       7\n",
       "632       2\n",
       "1302      1\n",
       "Name: columns, dtype: int64"
      ]
     },
     "execution_count": 26,
     "metadata": {},
     "output_type": "execute_result"
    }
   ],
   "source": [
    "metadata['columns'].value_counts()"
   ]
  },
  {
   "cell_type": "code",
   "execution_count": 27,
   "metadata": {},
   "outputs": [
    {
     "data": {
      "image/png": "[encoded data removed]",
      "text/plain": [
       "<Figure size 432x288 with 1 Axes>"
      ]
     },
     "metadata": {
      "needs_background": "light"
     },
     "output_type": "display_data"
    }
   ],
   "source": [
    "plt.hist(metadata['slice_thickness'].value_counts(), bins=50);"
   ]
  },
  {
   "cell_type": "markdown",
   "metadata": {},
   "source": [
    "Now we know that some of our images don't have the same shape across both dimensions\n",
    "\n",
    "The little noise below is simply checking if the spacing is the same in both direction. Since it returns true, we flip and it and sum the value. If it adds up to zero, that means everything matched up"
   ]
  },
  {
   "cell_type": "code",
   "execution_count": 28,
   "metadata": {},
   "outputs": [
    {
     "data": {
      "text/plain": [
       "0"
      ]
     },
     "execution_count": 28,
     "metadata": {},
     "output_type": "execute_result"
    }
   ],
   "source": [
    "(~(metadata['spacing_x'] == metadata['spacing_y'])).sum()"
   ]
  },
  {
   "cell_type": "code",
   "execution_count": 29,
   "metadata": {},
   "outputs": [
    {
     "data": {
      "text/plain": [
       "7"
      ]
     },
     "execution_count": 29,
     "metadata": {},
     "output_type": "execute_result"
    }
   ],
   "source": [
    "(~(metadata['rows'] == metadata['columns'])).sum()"
   ]
  },
  {
   "cell_type": "markdown",
   "metadata": {},
   "source": [
    "So 7 samples have rectangular slices vs squared\n",
    "\n",
    "Let's also add some less obvious information"
   ]
  },
  {
   "cell_type": "code",
   "execution_count": 30,
   "metadata": {},
   "outputs": [
    {
     "name": "stdout",
     "output_type": "stream",
     "text": [
      "CPU times: user 99.7 ms, sys: 0 ns, total: 99.7 ms\n",
      "Wall time: 99.1 ms\n"
     ]
    }
   ],
   "source": [
    "%%time\n",
    "holder = []\n",
    "for dcms in scans:\n",
    "    slice_count = len(dcms)\n",
    "    dcm = dcms[0]\n",
    "    pat = train_df[train_df['Patient'] == dcm.PatientID].iloc[0]\n",
    "    holder.append([pat['Patient'], pat['Age'], pat['Sex'],\n",
    "                   pat['SmokingStatus'], slice_count, dcm.Rows, \n",
    "                   dcm.Columns, dcm.SliceThickness, \n",
    "                   dcm.PixelSpacing[0], dcm.PixelSpacing[1], \n",
    "                   dcm.Manufacturer, dcm.KVP, \n",
    "                   dcm.ConvolutionKernel,dcm.PatientPosition])\n",
    "    \n",
    "metadata = pd.DataFrame(holder, columns=['patient', 'age',\n",
    "                                         'sex', 'smoking_status',\n",
    "                                'num_slices', 'rows', 'columns', \n",
    "                              'slice_thickness', 'spacing_x', \n",
    "                              'spacing_y', 'manufacturer',\n",
    "                            'kvp', 'convolution_kernel',\n",
    "                                        'patient_position'])"
   ]
  },
  {
   "cell_type": "code",
   "execution_count": 31,
   "metadata": {},
   "outputs": [
    {
     "data": {
      "text/html": [
       "<div>\n",
       "<style scoped>\n",
       "    .dataframe tbody tr th:only-of-type {\n",
       "        vertical-align: middle;\n",
       "    }\n",
       "\n",
       "    .dataframe tbody tr th {\n",
       "        vertical-align: top;\n",
       "    }\n",
       "\n",
       "    .dataframe thead th {\n",
       "        text-align: right;\n",
       "    }\n",
       "</style>\n",
       "<table border=\"1\" class=\"dataframe\">\n",
       "  <thead>\n",
       "    <tr style=\"text-align: right;\">\n",
       "      <th></th>\n",
       "      <th>patient</th>\n",
       "      <th>age</th>\n",
       "      <th>sex</th>\n",
       "      <th>smoking_status</th>\n",
       "      <th>num_slices</th>\n",
       "      <th>rows</th>\n",
       "      <th>columns</th>\n",
       "      <th>slice_thickness</th>\n",
       "      <th>spacing_x</th>\n",
       "      <th>spacing_y</th>\n",
       "      <th>manufacturer</th>\n",
       "      <th>kvp</th>\n",
       "      <th>convolution_kernel</th>\n",
       "      <th>patient_position</th>\n",
       "    </tr>\n",
       "  </thead>\n",
       "  <tbody>\n",
       "    <tr>\n",
       "      <th>0</th>\n",
       "      <td>ID00232637202260377586117</td>\n",
       "      <td>74</td>\n",
       "      <td>Female</td>\n",
       "      <td>Never smoked</td>\n",
       "      <td>67</td>\n",
       "      <td>512</td>\n",
       "      <td>512</td>\n",
       "      <td>5.000</td>\n",
       "      <td>0.683000</td>\n",
       "      <td>0.683000</td>\n",
       "      <td>TOSHIBA</td>\n",
       "      <td>120.0</td>\n",
       "      <td>FC52</td>\n",
       "      <td>FFS</td>\n",
       "    </tr>\n",
       "    <tr>\n",
       "      <th>1</th>\n",
       "      <td>ID00134637202223873059688</td>\n",
       "      <td>67</td>\n",
       "      <td>Male</td>\n",
       "      <td>Ex-smoker</td>\n",
       "      <td>451</td>\n",
       "      <td>512</td>\n",
       "      <td>512</td>\n",
       "      <td>1.000</td>\n",
       "      <td>0.740234</td>\n",
       "      <td>0.740234</td>\n",
       "      <td>Philips</td>\n",
       "      <td>120.0</td>\n",
       "      <td>YC</td>\n",
       "      <td>HFS</td>\n",
       "    </tr>\n",
       "    <tr>\n",
       "      <th>2</th>\n",
       "      <td>ID00093637202205278167493</td>\n",
       "      <td>69</td>\n",
       "      <td>Male</td>\n",
       "      <td>Ex-smoker</td>\n",
       "      <td>37</td>\n",
       "      <td>512</td>\n",
       "      <td>512</td>\n",
       "      <td>1.000</td>\n",
       "      <td>0.880859</td>\n",
       "      <td>0.880859</td>\n",
       "      <td>SIEMENS</td>\n",
       "      <td>120.0</td>\n",
       "      <td>B60f</td>\n",
       "      <td>FFS</td>\n",
       "    </tr>\n",
       "    <tr>\n",
       "      <th>3</th>\n",
       "      <td>ID00307637202282126172865</td>\n",
       "      <td>65</td>\n",
       "      <td>Male</td>\n",
       "      <td>Never smoked</td>\n",
       "      <td>29</td>\n",
       "      <td>512</td>\n",
       "      <td>512</td>\n",
       "      <td>1.000</td>\n",
       "      <td>0.707031</td>\n",
       "      <td>0.707031</td>\n",
       "      <td>SIEMENS</td>\n",
       "      <td>110.0</td>\n",
       "      <td>B90s</td>\n",
       "      <td>HFS</td>\n",
       "    </tr>\n",
       "    <tr>\n",
       "      <th>4</th>\n",
       "      <td>ID00364637202296074419422</td>\n",
       "      <td>64</td>\n",
       "      <td>Male</td>\n",
       "      <td>Ex-smoker</td>\n",
       "      <td>33</td>\n",
       "      <td>512</td>\n",
       "      <td>512</td>\n",
       "      <td>1.000</td>\n",
       "      <td>0.712891</td>\n",
       "      <td>0.712891</td>\n",
       "      <td>SIEMENS</td>\n",
       "      <td>100.0</td>\n",
       "      <td>B50f</td>\n",
       "      <td>HFS</td>\n",
       "    </tr>\n",
       "    <tr>\n",
       "      <th>...</th>\n",
       "      <td>...</td>\n",
       "      <td>...</td>\n",
       "      <td>...</td>\n",
       "      <td>...</td>\n",
       "      <td>...</td>\n",
       "      <td>...</td>\n",
       "      <td>...</td>\n",
       "      <td>...</td>\n",
       "      <td>...</td>\n",
       "      <td>...</td>\n",
       "      <td>...</td>\n",
       "      <td>...</td>\n",
       "      <td>...</td>\n",
       "      <td>...</td>\n",
       "    </tr>\n",
       "    <tr>\n",
       "      <th>171</th>\n",
       "      <td>ID00336637202286801879145</td>\n",
       "      <td>56</td>\n",
       "      <td>Male</td>\n",
       "      <td>Ex-smoker</td>\n",
       "      <td>33</td>\n",
       "      <td>512</td>\n",
       "      <td>512</td>\n",
       "      <td>1.000</td>\n",
       "      <td>0.650391</td>\n",
       "      <td>0.650391</td>\n",
       "      <td>SIEMENS</td>\n",
       "      <td>120.0</td>\n",
       "      <td>B70s</td>\n",
       "      <td>FFP</td>\n",
       "    </tr>\n",
       "    <tr>\n",
       "      <th>172</th>\n",
       "      <td>ID00383637202300493233675</td>\n",
       "      <td>64</td>\n",
       "      <td>Female</td>\n",
       "      <td>Never smoked</td>\n",
       "      <td>32</td>\n",
       "      <td>512</td>\n",
       "      <td>512</td>\n",
       "      <td>1.000</td>\n",
       "      <td>0.656250</td>\n",
       "      <td>0.656250</td>\n",
       "      <td>SIEMENS</td>\n",
       "      <td>120.0</td>\n",
       "      <td>B50f</td>\n",
       "      <td>HFS</td>\n",
       "    </tr>\n",
       "    <tr>\n",
       "      <th>173</th>\n",
       "      <td>ID00067637202189903532242</td>\n",
       "      <td>64</td>\n",
       "      <td>Male</td>\n",
       "      <td>Ex-smoker</td>\n",
       "      <td>319</td>\n",
       "      <td>733</td>\n",
       "      <td>888</td>\n",
       "      <td>1.250</td>\n",
       "      <td>0.871094</td>\n",
       "      <td>0.871094</td>\n",
       "      <td>GE MEDICAL SYSTEMS</td>\n",
       "      <td>120.0</td>\n",
       "      <td>LUNG</td>\n",
       "      <td>FFS</td>\n",
       "    </tr>\n",
       "    <tr>\n",
       "      <th>174</th>\n",
       "      <td>ID00317637202283194142136</td>\n",
       "      <td>64</td>\n",
       "      <td>Male</td>\n",
       "      <td>Ex-smoker</td>\n",
       "      <td>521</td>\n",
       "      <td>512</td>\n",
       "      <td>512</td>\n",
       "      <td>0.625</td>\n",
       "      <td>0.677734</td>\n",
       "      <td>0.677734</td>\n",
       "      <td>GE MEDICAL SYSTEMS</td>\n",
       "      <td>120.0</td>\n",
       "      <td>LUNG</td>\n",
       "      <td>FFS</td>\n",
       "    </tr>\n",
       "    <tr>\n",
       "      <th>175</th>\n",
       "      <td>ID00104637202208063407045</td>\n",
       "      <td>74</td>\n",
       "      <td>Male</td>\n",
       "      <td>Never smoked</td>\n",
       "      <td>498</td>\n",
       "      <td>512</td>\n",
       "      <td>512</td>\n",
       "      <td>0.500</td>\n",
       "      <td>0.665000</td>\n",
       "      <td>0.665000</td>\n",
       "      <td>TOSHIBA</td>\n",
       "      <td>120.0</td>\n",
       "      <td>FC01</td>\n",
       "      <td>HFS</td>\n",
       "    </tr>\n",
       "  </tbody>\n",
       "</table>\n",
       "<p>176 rows × 14 columns</p>\n",
       "</div>"
      ],
      "text/plain": [
       "                       patient  age     sex smoking_status  num_slices  rows  \\\n",
       "0    ID00232637202260377586117   74  Female   Never smoked          67   512   \n",
       "1    ID00134637202223873059688   67    Male      Ex-smoker         451   512   \n",
       "2    ID00093637202205278167493   69    Male      Ex-smoker          37   512   \n",
       "3    ID00307637202282126172865   65    Male   Never smoked          29   512   \n",
       "4    ID00364637202296074419422   64    Male      Ex-smoker          33   512   \n",
       "..                         ...  ...     ...            ...         ...   ...   \n",
       "171  ID00336637202286801879145   56    Male      Ex-smoker          33   512   \n",
       "172  ID00383637202300493233675   64  Female   Never smoked          32   512   \n",
       "173  ID00067637202189903532242   64    Male      Ex-smoker         319   733   \n",
       "174  ID00317637202283194142136   64    Male      Ex-smoker         521   512   \n",
       "175  ID00104637202208063407045   74    Male   Never smoked         498   512   \n",
       "\n",
       "     columns  slice_thickness  spacing_x  spacing_y        manufacturer  \\\n",
       "0        512            5.000   0.683000   0.683000             TOSHIBA   \n",
       "1        512            1.000   0.740234   0.740234             Philips   \n",
       "2        512            1.000   0.880859   0.880859             SIEMENS   \n",
       "3        512            1.000   0.707031   0.707031             SIEMENS   \n",
       "4        512            1.000   0.712891   0.712891             SIEMENS   \n",
       "..       ...              ...        ...        ...                 ...   \n",
       "171      512            1.000   0.650391   0.650391             SIEMENS   \n",
       "172      512            1.000   0.656250   0.656250             SIEMENS   \n",
       "173      888            1.250   0.871094   0.871094  GE MEDICAL SYSTEMS   \n",
       "174      512            0.625   0.677734   0.677734  GE MEDICAL SYSTEMS   \n",
       "175      512            0.500   0.665000   0.665000             TOSHIBA   \n",
       "\n",
       "       kvp convolution_kernel patient_position  \n",
       "0    120.0               FC52              FFS  \n",
       "1    120.0                 YC              HFS  \n",
       "2    120.0               B60f              FFS  \n",
       "3    110.0               B90s              HFS  \n",
       "4    100.0               B50f              HFS  \n",
       "..     ...                ...              ...  \n",
       "171  120.0               B70s              FFP  \n",
       "172  120.0               B50f              HFS  \n",
       "173  120.0               LUNG              FFS  \n",
       "174  120.0               LUNG              FFS  \n",
       "175  120.0               FC01              HFS  \n",
       "\n",
       "[176 rows x 14 columns]"
      ]
     },
     "execution_count": 31,
     "metadata": {},
     "output_type": "execute_result"
    }
   ],
   "source": [
    "metadata"
   ]
  },
  {
   "cell_type": "code",
   "execution_count": 32,
   "metadata": {},
   "outputs": [
    {
     "data": {
      "text/plain": [
       "SIEMENS                        74\n",
       "GE MEDICAL SYSTEMS             45\n",
       "Philips                        28\n",
       "TOSHIBA                        26\n",
       "PACSGEAR                        1\n",
       "PACSMATT                        1\n",
       "Hitachi Medical Corporation     1\n",
       "Name: manufacturer, dtype: int64"
      ]
     },
     "execution_count": 32,
     "metadata": {},
     "output_type": "execute_result"
    }
   ],
   "source": [
    "metadata['manufacturer'].value_counts()"
   ]
  },
  {
   "cell_type": "code",
   "execution_count": 33,
   "metadata": {},
   "outputs": [
    {
     "data": {
      "text/plain": [
       "120.0    130\n",
       "140.0     19\n",
       "100.0     12\n",
       "130.0     11\n",
       "110.0      3\n",
       "135.0      1\n",
       "Name: kvp, dtype: int64"
      ]
     },
     "execution_count": 33,
     "metadata": {},
     "output_type": "execute_result"
    }
   ],
   "source": [
    "#Peak kilo voltage output of xray generator used\n",
    "metadata['kvp'].value_counts()"
   ]
  },
  {
   "cell_type": "code",
   "execution_count": 34,
   "metadata": {},
   "outputs": [
    {
     "data": {
      "text/plain": [
       "LUNG         18\n",
       "B70f         17\n",
       "B70s         16\n",
       "BONEPLUS     13\n",
       "B60f         10\n",
       "BONE         10\n",
       "L             9\n",
       "B50f          8\n",
       "C             8\n",
       "B80s          8\n",
       "FC86          6\n",
       "FC52          5\n",
       "FC51          4\n",
       "FC01          4\n",
       "STANDARD      4\n",
       "B90s          4\n",
       "YB            3\n",
       "D             3\n",
       "FC30          2\n",
       "B60s          2\n",
       "YC            2\n",
       "FC53          2\n",
       "B80f          2\n",
       "B50s          2\n",
       "FC18          1\n",
       "F             1\n",
       "[I50f, 3]     1\n",
       "B40f          1\n",
       "CHST          1\n",
       "23            1\n",
       "B             1\n",
       "DETAIL        1\n",
       "FC50          1\n",
       "B30f          1\n",
       "B41f          1\n",
       "FC11          1\n",
       "YD            1\n",
       "B31f          1\n",
       "Name: convolution_kernel, dtype: int64"
      ]
     },
     "execution_count": 34,
     "metadata": {},
     "output_type": "execute_result"
    }
   ],
   "source": [
    "#convolution kernel used to reconstruct the data\n",
    "metadata['convolution_kernel'].value_counts()"
   ]
  },
  {
   "cell_type": "code",
   "execution_count": 35,
   "metadata": {},
   "outputs": [
    {
     "data": {
      "text/plain": [
       "HFS    85\n",
       "FFS    82\n",
       "FFP     7\n",
       "HFP     2\n",
       "Name: patient_position, dtype: int64"
      ]
     },
     "execution_count": 35,
     "metadata": {},
     "output_type": "execute_result"
    }
   ],
   "source": [
    "metadata['patient_position'].value_counts()"
   ]
  },
  {
   "cell_type": "markdown",
   "metadata": {},
   "source": [
    "https://dicom.innolitics.com/ciods/ct-image/general-series/00185100<br>\n",
    "\n",
    "https://stackoverflow.com/questions/40115444/dicom-understanding-the-relationship-between-patient-position-0018-5100-image\n",
    "\n",
    "\n",
    "Ok so we have different positions of the patients, will this matter? <br> HFS: Head first supine <br> FFS: Feet first supine <br> FFP: Feet first prone <br> HFP: Head first prone\n",
    "\n",
    "Prone means that they are on their stomaches while supine means they are on their backs. The lungs sit higher up in the torso -- so let's say you start scanning when you start either from the hips or the shoulders, the feet first approach could mean you have even more dead space in the scan than the head first approach.\n",
    "\n",
    "1) Can we not just sort all the scans in the same way because of the patient position? Or does the scanners algorithm take care to flip/invert the scans? Unlikely <br>\n",
    "2) Is there a discrepency in outcomes based on the patient position? We'll need to reference the train_df information to analyze this!"
   ]
  },
  {
   "cell_type": "code",
   "execution_count": 36,
   "metadata": {},
   "outputs": [
    {
     "data": {
      "text/html": [
       "<div>\n",
       "<style scoped>\n",
       "    .dataframe tbody tr th:only-of-type {\n",
       "        vertical-align: middle;\n",
       "    }\n",
       "\n",
       "    .dataframe tbody tr th {\n",
       "        vertical-align: top;\n",
       "    }\n",
       "\n",
       "    .dataframe thead th {\n",
       "        text-align: right;\n",
       "    }\n",
       "</style>\n",
       "<table border=\"1\" class=\"dataframe\">\n",
       "  <thead>\n",
       "    <tr style=\"text-align: right;\">\n",
       "      <th></th>\n",
       "      <th>num_slices</th>\n",
       "      <th>patient_position</th>\n",
       "    </tr>\n",
       "  </thead>\n",
       "  <tbody>\n",
       "    <tr>\n",
       "      <th>0</th>\n",
       "      <td>67</td>\n",
       "      <td>FFS</td>\n",
       "    </tr>\n",
       "    <tr>\n",
       "      <th>1</th>\n",
       "      <td>451</td>\n",
       "      <td>HFS</td>\n",
       "    </tr>\n",
       "    <tr>\n",
       "      <th>2</th>\n",
       "      <td>37</td>\n",
       "      <td>FFS</td>\n",
       "    </tr>\n",
       "    <tr>\n",
       "      <th>3</th>\n",
       "      <td>29</td>\n",
       "      <td>HFS</td>\n",
       "    </tr>\n",
       "    <tr>\n",
       "      <th>4</th>\n",
       "      <td>33</td>\n",
       "      <td>HFS</td>\n",
       "    </tr>\n",
       "  </tbody>\n",
       "</table>\n",
       "</div>"
      ],
      "text/plain": [
       "   num_slices patient_position\n",
       "0          67              FFS\n",
       "1         451              HFS\n",
       "2          37              FFS\n",
       "3          29              HFS\n",
       "4          33              HFS"
      ]
     },
     "execution_count": 36,
     "metadata": {},
     "output_type": "execute_result"
    }
   ],
   "source": [
    "slice_position = metadata[['num_slices', 'patient_position']]\n",
    "slice_position.head()"
   ]
  },
  {
   "cell_type": "code",
   "execution_count": 37,
   "metadata": {},
   "outputs": [
    {
     "data": {
      "text/html": [
       "<div>\n",
       "<style scoped>\n",
       "    .dataframe tbody tr th:only-of-type {\n",
       "        vertical-align: middle;\n",
       "    }\n",
       "\n",
       "    .dataframe tbody tr th {\n",
       "        vertical-align: top;\n",
       "    }\n",
       "\n",
       "    .dataframe thead th {\n",
       "        text-align: right;\n",
       "    }\n",
       "</style>\n",
       "<table border=\"1\" class=\"dataframe\">\n",
       "  <thead>\n",
       "    <tr style=\"text-align: right;\">\n",
       "      <th></th>\n",
       "      <th>num_slices</th>\n",
       "      <th>patient_position</th>\n",
       "    </tr>\n",
       "  </thead>\n",
       "  <tbody>\n",
       "    <tr>\n",
       "      <th>55</th>\n",
       "      <td>12</td>\n",
       "      <td>FFP</td>\n",
       "    </tr>\n",
       "    <tr>\n",
       "      <th>126</th>\n",
       "      <td>16</td>\n",
       "      <td>FFS</td>\n",
       "    </tr>\n",
       "    <tr>\n",
       "      <th>129</th>\n",
       "      <td>17</td>\n",
       "      <td>FFP</td>\n",
       "    </tr>\n",
       "    <tr>\n",
       "      <th>31</th>\n",
       "      <td>17</td>\n",
       "      <td>FFS</td>\n",
       "    </tr>\n",
       "    <tr>\n",
       "      <th>50</th>\n",
       "      <td>18</td>\n",
       "      <td>FFS</td>\n",
       "    </tr>\n",
       "    <tr>\n",
       "      <th>...</th>\n",
       "      <td>...</td>\n",
       "      <td>...</td>\n",
       "    </tr>\n",
       "    <tr>\n",
       "      <th>52</th>\n",
       "      <td>574</td>\n",
       "      <td>HFS</td>\n",
       "    </tr>\n",
       "    <tr>\n",
       "      <th>97</th>\n",
       "      <td>577</td>\n",
       "      <td>HFS</td>\n",
       "    </tr>\n",
       "    <tr>\n",
       "      <th>87</th>\n",
       "      <td>602</td>\n",
       "      <td>HFS</td>\n",
       "    </tr>\n",
       "    <tr>\n",
       "      <th>21</th>\n",
       "      <td>825</td>\n",
       "      <td>FFS</td>\n",
       "    </tr>\n",
       "    <tr>\n",
       "      <th>84</th>\n",
       "      <td>1018</td>\n",
       "      <td>FFS</td>\n",
       "    </tr>\n",
       "  </tbody>\n",
       "</table>\n",
       "<p>176 rows × 2 columns</p>\n",
       "</div>"
      ],
      "text/plain": [
       "     num_slices patient_position\n",
       "55           12              FFP\n",
       "126          16              FFS\n",
       "129          17              FFP\n",
       "31           17              FFS\n",
       "50           18              FFS\n",
       "..          ...              ...\n",
       "52          574              HFS\n",
       "97          577              HFS\n",
       "87          602              HFS\n",
       "21          825              FFS\n",
       "84         1018              FFS\n",
       "\n",
       "[176 rows x 2 columns]"
      ]
     },
     "execution_count": 37,
     "metadata": {},
     "output_type": "execute_result"
    }
   ],
   "source": [
    "slice_position.sort_values(by=['num_slices'])"
   ]
  },
  {
   "cell_type": "code",
   "execution_count": 38,
   "metadata": {},
   "outputs": [
    {
     "data": {
      "text/plain": [
       "(178.0, 199.72941176470587)"
      ]
     },
     "execution_count": 38,
     "metadata": {},
     "output_type": "execute_result"
    }
   ],
   "source": [
    "hfs = slice_position[slice_position['patient_position'] == 'HFS'].reset_index()\n",
    "hfs['num_slices'].median(), hfs['num_slices'].mean()"
   ]
  },
  {
   "cell_type": "code",
   "execution_count": 39,
   "metadata": {},
   "outputs": [
    {
     "data": {
      "text/plain": [
       "(74.0, 184.4268292682927)"
      ]
     },
     "execution_count": 39,
     "metadata": {},
     "output_type": "execute_result"
    }
   ],
   "source": [
    "ffs = slice_position[slice_position['patient_position'] == 'FFS']\n",
    "ffs['num_slices'].median(), ffs['num_slices'].mean()"
   ]
  },
  {
   "cell_type": "code",
   "execution_count": 40,
   "metadata": {},
   "outputs": [
    {
     "data": {
      "text/plain": [
       "(119.5, 199.72941176470587)"
      ]
     },
     "execution_count": 40,
     "metadata": {},
     "output_type": "execute_result"
    }
   ],
   "source": [
    "hfp = slice_position[slice_position['patient_position'] == 'HFP']\n",
    "hfp['num_slices'].median(), hfs['num_slices'].mean()"
   ]
  },
  {
   "cell_type": "code",
   "execution_count": 41,
   "metadata": {},
   "outputs": [
    {
     "data": {
      "text/plain": [
       "(29.0, 98.14285714285714)"
      ]
     },
     "execution_count": 41,
     "metadata": {},
     "output_type": "execute_result"
    }
   ],
   "source": [
    "ffp = slice_position[slice_position['patient_position'] == 'FFP'].reset_index()\n",
    "ffp['num_slices'].median(), ffp['num_slices'].mean()"
   ]
  },
  {
   "cell_type": "code",
   "execution_count": 42,
   "metadata": {},
   "outputs": [
    {
     "data": {
      "text/html": [
       "<div>\n",
       "<style scoped>\n",
       "    .dataframe tbody tr th:only-of-type {\n",
       "        vertical-align: middle;\n",
       "    }\n",
       "\n",
       "    .dataframe tbody tr th {\n",
       "        vertical-align: top;\n",
       "    }\n",
       "\n",
       "    .dataframe thead th {\n",
       "        text-align: right;\n",
       "    }\n",
       "</style>\n",
       "<table border=\"1\" class=\"dataframe\">\n",
       "  <thead>\n",
       "    <tr style=\"text-align: right;\">\n",
       "      <th></th>\n",
       "      <th>num_slices</th>\n",
       "      <th>manufacturer</th>\n",
       "    </tr>\n",
       "  </thead>\n",
       "  <tbody>\n",
       "    <tr>\n",
       "      <th>0</th>\n",
       "      <td>67</td>\n",
       "      <td>TOSHIBA</td>\n",
       "    </tr>\n",
       "    <tr>\n",
       "      <th>1</th>\n",
       "      <td>451</td>\n",
       "      <td>Philips</td>\n",
       "    </tr>\n",
       "    <tr>\n",
       "      <th>2</th>\n",
       "      <td>37</td>\n",
       "      <td>SIEMENS</td>\n",
       "    </tr>\n",
       "    <tr>\n",
       "      <th>3</th>\n",
       "      <td>29</td>\n",
       "      <td>SIEMENS</td>\n",
       "    </tr>\n",
       "    <tr>\n",
       "      <th>4</th>\n",
       "      <td>33</td>\n",
       "      <td>SIEMENS</td>\n",
       "    </tr>\n",
       "  </tbody>\n",
       "</table>\n",
       "</div>"
      ],
      "text/plain": [
       "   num_slices manufacturer\n",
       "0          67      TOSHIBA\n",
       "1         451      Philips\n",
       "2          37      SIEMENS\n",
       "3          29      SIEMENS\n",
       "4          33      SIEMENS"
      ]
     },
     "execution_count": 42,
     "metadata": {},
     "output_type": "execute_result"
    }
   ],
   "source": [
    "manuf_slices = metadata[['num_slices', 'manufacturer']]\n",
    "manuf_slices.head()"
   ]
  },
  {
   "cell_type": "code",
   "execution_count": 43,
   "metadata": {},
   "outputs": [],
   "source": [
    "manuf_info = []\n",
    "for manufac in list(metadata['manufacturer'].unique()):\n",
    "    man_iso = manuf_slices[manuf_slices['manufacturer'] == manufac]\n",
    "    mean, median = man_iso.mean().item(), man_iso.median().item()\n",
    "    manuf_info.append([manufac, median, mean, len(man_iso)])"
   ]
  },
  {
   "cell_type": "code",
   "execution_count": 44,
   "metadata": {},
   "outputs": [
    {
     "data": {
      "text/html": [
       "<div>\n",
       "<style scoped>\n",
       "    .dataframe tbody tr th:only-of-type {\n",
       "        vertical-align: middle;\n",
       "    }\n",
       "\n",
       "    .dataframe tbody tr th {\n",
       "        vertical-align: top;\n",
       "    }\n",
       "\n",
       "    .dataframe thead th {\n",
       "        text-align: right;\n",
       "    }\n",
       "</style>\n",
       "<table border=\"1\" class=\"dataframe\">\n",
       "  <thead>\n",
       "    <tr style=\"text-align: right;\">\n",
       "      <th></th>\n",
       "      <th>manufacturer</th>\n",
       "      <th>median</th>\n",
       "      <th>mean</th>\n",
       "      <th>unique_scans</th>\n",
       "    </tr>\n",
       "  </thead>\n",
       "  <tbody>\n",
       "    <tr>\n",
       "      <th>0</th>\n",
       "      <td>TOSHIBA</td>\n",
       "      <td>77.0</td>\n",
       "      <td>219.346154</td>\n",
       "      <td>26</td>\n",
       "    </tr>\n",
       "    <tr>\n",
       "      <th>1</th>\n",
       "      <td>Philips</td>\n",
       "      <td>280.5</td>\n",
       "      <td>255.642857</td>\n",
       "      <td>28</td>\n",
       "    </tr>\n",
       "    <tr>\n",
       "      <th>2</th>\n",
       "      <td>SIEMENS</td>\n",
       "      <td>65.0</td>\n",
       "      <td>153.554054</td>\n",
       "      <td>74</td>\n",
       "    </tr>\n",
       "    <tr>\n",
       "      <th>3</th>\n",
       "      <td>GE MEDICAL SYSTEMS</td>\n",
       "      <td>71.0</td>\n",
       "      <td>188.822222</td>\n",
       "      <td>45</td>\n",
       "    </tr>\n",
       "    <tr>\n",
       "      <th>4</th>\n",
       "      <td>Hitachi Medical Corporation</td>\n",
       "      <td>253.0</td>\n",
       "      <td>253.000000</td>\n",
       "      <td>1</td>\n",
       "    </tr>\n",
       "    <tr>\n",
       "      <th>5</th>\n",
       "      <td>PACSMATT</td>\n",
       "      <td>24.0</td>\n",
       "      <td>24.000000</td>\n",
       "      <td>1</td>\n",
       "    </tr>\n",
       "    <tr>\n",
       "      <th>6</th>\n",
       "      <td>PACSGEAR</td>\n",
       "      <td>28.0</td>\n",
       "      <td>28.000000</td>\n",
       "      <td>1</td>\n",
       "    </tr>\n",
       "  </tbody>\n",
       "</table>\n",
       "</div>"
      ],
      "text/plain": [
       "                  manufacturer  median        mean  unique_scans\n",
       "0                      TOSHIBA    77.0  219.346154            26\n",
       "1                      Philips   280.5  255.642857            28\n",
       "2                      SIEMENS    65.0  153.554054            74\n",
       "3           GE MEDICAL SYSTEMS    71.0  188.822222            45\n",
       "4  Hitachi Medical Corporation   253.0  253.000000             1\n",
       "5                     PACSMATT    24.0   24.000000             1\n",
       "6                     PACSGEAR    28.0   28.000000             1"
      ]
     },
     "execution_count": 44,
     "metadata": {},
     "output_type": "execute_result"
    }
   ],
   "source": [
    "manuf_df = pd.DataFrame(manuf_info, columns=['manufacturer', 'median', 'mean',\n",
    "                                 'unique_scans'])\n",
    "manuf_df"
   ]
  },
  {
   "cell_type": "code",
   "execution_count": 45,
   "metadata": {
    "scrolled": true
   },
   "outputs": [
    {
     "data": {
      "image/png": "[encoded data removed]",
      "text/plain": [
       "<Figure size 432x288 with 1 Axes>"
      ]
     },
     "metadata": {
      "needs_background": "light"
     },
     "output_type": "display_data"
    }
   ],
   "source": [
    "plt.scatter(manuf_slices['manufacturer'], manuf_slices['num_slices'],\n",
    "           alpha=0.5)\n",
    "plt.xticks(rotation=90);"
   ]
  },
  {
   "cell_type": "code",
   "execution_count": 46,
   "metadata": {},
   "outputs": [
    {
     "data": {
      "text/html": [
       "<div>\n",
       "<style scoped>\n",
       "    .dataframe tbody tr th:only-of-type {\n",
       "        vertical-align: middle;\n",
       "    }\n",
       "\n",
       "    .dataframe tbody tr th {\n",
       "        vertical-align: top;\n",
       "    }\n",
       "\n",
       "    .dataframe thead th {\n",
       "        text-align: right;\n",
       "    }\n",
       "</style>\n",
       "<table border=\"1\" class=\"dataframe\">\n",
       "  <thead>\n",
       "    <tr style=\"text-align: right;\">\n",
       "      <th></th>\n",
       "      <th>patient</th>\n",
       "      <th>age</th>\n",
       "      <th>sex</th>\n",
       "      <th>smoking_status</th>\n",
       "      <th>num_slices</th>\n",
       "      <th>rows</th>\n",
       "      <th>columns</th>\n",
       "      <th>slice_thickness</th>\n",
       "      <th>spacing_x</th>\n",
       "      <th>spacing_y</th>\n",
       "      <th>manufacturer</th>\n",
       "      <th>kvp</th>\n",
       "      <th>convolution_kernel</th>\n",
       "      <th>patient_position</th>\n",
       "    </tr>\n",
       "  </thead>\n",
       "  <tbody>\n",
       "    <tr>\n",
       "      <th>0</th>\n",
       "      <td>ID00232637202260377586117</td>\n",
       "      <td>74</td>\n",
       "      <td>Female</td>\n",
       "      <td>Never smoked</td>\n",
       "      <td>67</td>\n",
       "      <td>512</td>\n",
       "      <td>512</td>\n",
       "      <td>5.0</td>\n",
       "      <td>0.683000</td>\n",
       "      <td>0.683000</td>\n",
       "      <td>TOSHIBA</td>\n",
       "      <td>120.0</td>\n",
       "      <td>FC52</td>\n",
       "      <td>FFS</td>\n",
       "    </tr>\n",
       "    <tr>\n",
       "      <th>1</th>\n",
       "      <td>ID00134637202223873059688</td>\n",
       "      <td>67</td>\n",
       "      <td>Male</td>\n",
       "      <td>Ex-smoker</td>\n",
       "      <td>451</td>\n",
       "      <td>512</td>\n",
       "      <td>512</td>\n",
       "      <td>1.0</td>\n",
       "      <td>0.740234</td>\n",
       "      <td>0.740234</td>\n",
       "      <td>Philips</td>\n",
       "      <td>120.0</td>\n",
       "      <td>YC</td>\n",
       "      <td>HFS</td>\n",
       "    </tr>\n",
       "    <tr>\n",
       "      <th>2</th>\n",
       "      <td>ID00093637202205278167493</td>\n",
       "      <td>69</td>\n",
       "      <td>Male</td>\n",
       "      <td>Ex-smoker</td>\n",
       "      <td>37</td>\n",
       "      <td>512</td>\n",
       "      <td>512</td>\n",
       "      <td>1.0</td>\n",
       "      <td>0.880859</td>\n",
       "      <td>0.880859</td>\n",
       "      <td>SIEMENS</td>\n",
       "      <td>120.0</td>\n",
       "      <td>B60f</td>\n",
       "      <td>FFS</td>\n",
       "    </tr>\n",
       "    <tr>\n",
       "      <th>3</th>\n",
       "      <td>ID00307637202282126172865</td>\n",
       "      <td>65</td>\n",
       "      <td>Male</td>\n",
       "      <td>Never smoked</td>\n",
       "      <td>29</td>\n",
       "      <td>512</td>\n",
       "      <td>512</td>\n",
       "      <td>1.0</td>\n",
       "      <td>0.707031</td>\n",
       "      <td>0.707031</td>\n",
       "      <td>SIEMENS</td>\n",
       "      <td>110.0</td>\n",
       "      <td>B90s</td>\n",
       "      <td>HFS</td>\n",
       "    </tr>\n",
       "    <tr>\n",
       "      <th>4</th>\n",
       "      <td>ID00364637202296074419422</td>\n",
       "      <td>64</td>\n",
       "      <td>Male</td>\n",
       "      <td>Ex-smoker</td>\n",
       "      <td>33</td>\n",
       "      <td>512</td>\n",
       "      <td>512</td>\n",
       "      <td>1.0</td>\n",
       "      <td>0.712891</td>\n",
       "      <td>0.712891</td>\n",
       "      <td>SIEMENS</td>\n",
       "      <td>100.0</td>\n",
       "      <td>B50f</td>\n",
       "      <td>HFS</td>\n",
       "    </tr>\n",
       "  </tbody>\n",
       "</table>\n",
       "</div>"
      ],
      "text/plain": [
       "                     patient  age     sex smoking_status  num_slices  rows  \\\n",
       "0  ID00232637202260377586117   74  Female   Never smoked          67   512   \n",
       "1  ID00134637202223873059688   67    Male      Ex-smoker         451   512   \n",
       "2  ID00093637202205278167493   69    Male      Ex-smoker          37   512   \n",
       "3  ID00307637202282126172865   65    Male   Never smoked          29   512   \n",
       "4  ID00364637202296074419422   64    Male      Ex-smoker          33   512   \n",
       "\n",
       "   columns  slice_thickness  spacing_x  spacing_y manufacturer    kvp  \\\n",
       "0      512              5.0   0.683000   0.683000      TOSHIBA  120.0   \n",
       "1      512              1.0   0.740234   0.740234      Philips  120.0   \n",
       "2      512              1.0   0.880859   0.880859      SIEMENS  120.0   \n",
       "3      512              1.0   0.707031   0.707031      SIEMENS  110.0   \n",
       "4      512              1.0   0.712891   0.712891      SIEMENS  100.0   \n",
       "\n",
       "  convolution_kernel patient_position  \n",
       "0               FC52              FFS  \n",
       "1                 YC              HFS  \n",
       "2               B60f              FFS  \n",
       "3               B90s              HFS  \n",
       "4               B50f              HFS  "
      ]
     },
     "execution_count": 46,
     "metadata": {},
     "output_type": "execute_result"
    }
   ],
   "source": [
    "metadata.head()"
   ]
  },
  {
   "cell_type": "code",
   "execution_count": 47,
   "metadata": {},
   "outputs": [
    {
     "data": {
      "image/png": "[encoded data removed]",
      "text/plain": [
       "<Figure size 432x288 with 1 Axes>"
      ]
     },
     "metadata": {
      "needs_background": "light"
     },
     "output_type": "display_data"
    }
   ],
   "source": [
    "plt.scatter(metadata['manufacturer'], metadata['slice_thickness'])\n",
    "plt.xlabel('Manufacturer')\n",
    "plt.ylabel('Slice Thickness')\n",
    "plt.xticks(rotation=90);"
   ]
  },
  {
   "cell_type": "code",
   "execution_count": 71,
   "metadata": {},
   "outputs": [
    {
     "data": {
      "image/png": "[encoded data removed]",
      "text/plain": [
       "<Figure size 432x288 with 1 Axes>"
      ]
     },
     "metadata": {},
     "output_type": "display_data"
    }
   ],
   "source": [
    "plt.pie(metadata['manufacturer'].value_counts(), \n",
    "       labels=list(metadata['manufacturer'].value_counts().index),\n",
    "       rotatelabels=60);"
   ]
  },
  {
   "cell_type": "code",
   "execution_count": 72,
   "metadata": {},
   "outputs": [
    {
     "data": {
      "text/plain": [
       "SIEMENS                        74\n",
       "GE MEDICAL SYSTEMS             45\n",
       "Philips                        28\n",
       "TOSHIBA                        26\n",
       "PACSGEAR                        1\n",
       "PACSMATT                        1\n",
       "Hitachi Medical Corporation     1\n",
       "Name: manufacturer, dtype: int64"
      ]
     },
     "execution_count": 72,
     "metadata": {},
     "output_type": "execute_result"
    }
   ],
   "source": [
    "#to make sure that the labeling was done correctly\n",
    "metadata['manufacturer'].value_counts()"
   ]
  },
  {
   "cell_type": "markdown",
   "metadata": {},
   "source": [
    "Kind of hard to see the labels -- a legend would be better"
   ]
  },
  {
   "cell_type": "code",
   "execution_count": 103,
   "metadata": {},
   "outputs": [
    {
     "data": {
      "image/png": "[encoded data removed]",
      "text/plain": [
       "<Figure size 432x288 with 1 Axes>"
      ]
     },
     "metadata": {},
     "output_type": "display_data"
    }
   ],
   "source": [
    "plt.pie(metadata['manufacturer'].value_counts(), labeldistance=None,\n",
    "       labels=list(metadata['manufacturer'].value_counts().index));\n",
    "plt.legend(loc='right', bbox_to_anchor=(1,0,1.5,1));"
   ]
  },
  {
   "cell_type": "code",
   "execution_count": 104,
   "metadata": {},
   "outputs": [
    {
     "ename": "TypeError",
     "evalue": "bar() missing 1 required positional argument: 'height'",
     "output_type": "error",
     "traceback": [
      "\u001b[0;31m---------------------------------------------------------------------------\u001b[0m",
      "\u001b[0;31mTypeError\u001b[0m                                 Traceback (most recent call last)",
      "\u001b[0;32m<ipython-input-104-d4ba219a16c1>\u001b[0m in \u001b[0;36m<module>\u001b[0;34m\u001b[0m\n\u001b[0;32m----> 1\u001b[0;31m \u001b[0mplt\u001b[0m\u001b[0;34m.\u001b[0m\u001b[0mbar\u001b[0m\u001b[0;34m(\u001b[0m\u001b[0mmetadata\u001b[0m\u001b[0;34m[\u001b[0m\u001b[0;34m'manufacturer'\u001b[0m\u001b[0;34m]\u001b[0m\u001b[0;34m.\u001b[0m\u001b[0mvalue_counts\u001b[0m\u001b[0;34m(\u001b[0m\u001b[0;34m)\u001b[0m\u001b[0;34m)\u001b[0m\u001b[0;34m\u001b[0m\u001b[0;34m\u001b[0m\u001b[0m\n\u001b[0m",
      "\u001b[0;31mTypeError\u001b[0m: bar() missing 1 required positional argument: 'height'"
     ]
    }
   ],
   "source": [
    "plt.bar(metadata['manufacturer'].value_counts())"
   ]
  },
  {
   "cell_type": "code",
   "execution_count": 92,
   "metadata": {},
   "outputs": [
    {
     "data": {
      "text/plain": [
       "[<matplotlib.patches.Wedge at 0x7fddba6e8110>,\n",
       " <matplotlib.patches.Wedge at 0x7fddba6e8ad0>,\n",
       " <matplotlib.patches.Wedge at 0x7fddba6e87d0>,\n",
       " <matplotlib.patches.Wedge at 0x7fddba6db210>,\n",
       " <matplotlib.patches.Wedge at 0x7fddba6db910>,\n",
       " <matplotlib.patches.Wedge at 0x7fddba6f4490>,\n",
       " <matplotlib.patches.Wedge at 0x7fddba6f45d0>]"
      ]
     },
     "execution_count": 92,
     "metadata": {},
     "output_type": "execute_result"
    }
   ],
   "source": [
    "wedges"
   ]
  },
  {
   "cell_type": "code",
   "execution_count": 48,
   "metadata": {},
   "outputs": [],
   "source": [
    "def scatter_plot(x_val, y_val, title=None, rotation=None):\n",
    "    plt.scatter(metadata[x_val], metadata[y_val], alpha=0.5)\n",
    "    if rotation:\n",
    "        plt.xticks(rotation=rotation)\n",
    "    if title:\n",
    "        plt.title(title)\n",
    "    plt.ylabel(y_val)\n",
    "    plt.xlabel(x_val);"
   ]
  },
  {
   "cell_type": "code",
   "execution_count": 49,
   "metadata": {},
   "outputs": [
    {
     "data": {
      "image/png": "[encoded data removed]",
      "text/plain": [
       "<Figure size 432x288 with 1 Axes>"
      ]
     },
     "metadata": {
      "needs_background": "light"
     },
     "output_type": "display_data"
    }
   ],
   "source": [
    "scatter_plot('manufacturer', 'slice_thickness', 'it works!', 90)"
   ]
  },
  {
   "cell_type": "code",
   "execution_count": 50,
   "metadata": {},
   "outputs": [
    {
     "data": {
      "image/png": "[encoded data removed]",
      "text/plain": [
       "<Figure size 432x288 with 1 Axes>"
      ]
     },
     "metadata": {
      "needs_background": "light"
     },
     "output_type": "display_data"
    }
   ],
   "source": [
    "scatter_plot('age', 'smoking_status', rotation=90)"
   ]
  },
  {
   "cell_type": "code",
   "execution_count": 51,
   "metadata": {},
   "outputs": [
    {
     "data": {
      "text/plain": [
       "Index(['patient', 'age', 'sex', 'smoking_status', 'num_slices', 'rows',\n",
       "       'columns', 'slice_thickness', 'spacing_x', 'spacing_y', 'manufacturer',\n",
       "       'kvp', 'convolution_kernel', 'patient_position'],\n",
       "      dtype='object')"
      ]
     },
     "execution_count": 51,
     "metadata": {},
     "output_type": "execute_result"
    }
   ],
   "source": [
    "metadata.columns.T"
   ]
  },
  {
   "cell_type": "markdown",
   "metadata": {},
   "source": [
    "Let's extract the same information for the tets set and then actually compare discrepencies between train & test\n",
    "\n",
    "Also need to try out different plots -- lol"
   ]
  },
  {
   "cell_type": "code",
   "execution_count": null,
   "metadata": {},
   "outputs": [],
   "source": []
  }
 ],
 "metadata": {
  "kernelspec": {
   "display_name": "Python 3",
   "language": "python",
   "name": "python3"
  },
  "language_info": {
   "codemirror_mode": {
    "name": "ipython",
    "version": 3
   },
   "file_extension": ".py",
   "mimetype": "text/x-python",
   "name": "python",
   "nbconvert_exporter": "python",
   "pygments_lexer": "ipython3",
   "version": "3.7.7"
  }
 },
 "nbformat": 4,
 "nbformat_minor": 4
}
